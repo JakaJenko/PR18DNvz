{
 "cells": [
  {
   "cell_type": "markdown",
   "metadata": {},
   "source": [
    "### Podatkovno rudarjenje, 1. domača naloga, 9. 3. 2018\n",
    "\n",
    "# Priprava podatkov, osnovne statistike in vizualizacija"
   ]
  },
  {
   "cell_type": "markdown",
   "metadata": {},
   "source": [
    "**Jaka Jenko**"
   ]
  },
  {
   "cell_type": "markdown",
   "metadata": {},
   "source": [
    "Neizogiben del vsakega projekta na področju podatkovnega rudarjenja je iskanje,\n",
    "urejanje in priprava podatkov. V tej nalogi boste spoznali primer podatkovne\n",
    "zbirke in uporabili postopke za pretvorbo podatkov v ustrezno obliko ter pregled in prikaz\n",
    "osnovnih statistik.\n",
    "\n",
    "### Oddaja\n",
    "Zapišite kodo in odgovore v spodnje celice. Tako pripravljen notebook shranite v vaš repozitorij za domače naloge na *github*. V učilnici oddajte le povezavo do notebooka v vašem repozitoriju, n.pr.: https://github.com/vašeuporabniškoime/PR18DNvz/dn1/poročilo.ipynb.\n",
    "\n",
    "Za bolj podrobna navodila, glejte razdelek \"Domače naloge\" v [spletni učilnici predmeta](https://ucilnica.fri.uni-lj.si/course/view.php?id=37)."
   ]
  },
  {
   "cell_type": "markdown",
   "metadata": {},
   "source": [
    "## Podatki\n",
    "\n",
    "V nalogi boste pregledali in pripravili podatke gledanosti Hollywoodskih filmov\n",
    "zbirke [MovieLens](https://grouplens.org/datasets/movielens/) v obdobju **1995-2016**. Podatke naložite iz [spletne učilnice](https://ucilnica.fri.uni-lj.si/mod/resource/view.php?id=19230).\n",
    "\n",
    "Iste podatke boste uporabili v vseh domačih nalogah, zato jih dodobra spoznajte. Gre za podatkovno zbirko za\n",
    "vrednotenje priporočilnih sistemov, ki vsebuje gledalce ter njihove ocene za posamezni film na lestvici 1 do 5.  \n",
    "Poleg osnovne matrike uporabnikov in ocen vsebuje še dodatne podatke o filmih (npr. žanr, datum, oznake,\n",
    "igralci).\n",
    "\n",
    "Podatkovna zbirka vsebuje naslednje datoteke:\n",
    "\n",
    "* ratings.csv: podatki o uporabnikih in ocenah,\n",
    "* movies.csv: podatki o žanrih filmov,\n",
    "* cast.csv: podatki o igralcih,\n",
    "* tags.csv: podatki o oznakah (ang. \\emph{tags}),\n",
    "* links.csv: povezave na sorodne podatkovne zbirke.\n",
    "\n",
    "\n",
    "Pred pričetkom reševanja naloge si dobro oglejte podatke in datoteko **README.txt**. Podrobnosti o zbirki lahko preberete na [spletni strani](http://files.grouplens.org/datasets/movielens/ml-latest-small-README.html).\n",
    "\n",
    "Pripravite metode za nalaganje podatkov v ustrezne podatkovne strukture. Te vam bodo prišle\n",
    "prav tudi pri nadaljnjih nalogah.\n",
    "Bodite pozorni na velikost podatkov."
   ]
  },
  {
   "cell_type": "code",
   "execution_count": 48,
   "metadata": {
    "collapsed": false
   },
   "outputs": [],
   "source": [
    "import math\n",
    "import operator\n",
    "import numpy as np\n",
    "import matplotlib.pyplot as plt\n",
    "from datetime import datetime\n",
    "from csv import DictReader\n",
    "\n",
    "reader = DictReader(open('ml-latest-small/ratings.csv', 'rt', encoding='utf-8'))\n",
    "moviesRatings = {}\n",
    "\n",
    "for row in reader:\n",
    "    if row[\"movieId\"] in moviesRatings:\n",
    "        moviesRatings[row[\"movieId\"]].append(row)\n",
    "    else:\n",
    "        moviesRatings[row[\"movieId\"]] = [row]\n",
    "        \n",
    "        \n",
    "reader = DictReader(open('ml-latest-small/movies.csv', 'rt', encoding='utf-8'))\n",
    "movies = {}\n",
    "\n",
    "for row in reader:\n",
    "    movies[row[\"movieId\"]] = row\n",
    "    movies[row[\"movieId\"]][\"avgRating\"] = -1\n",
    "    movies[row[\"movieId\"]][\"specialRating\"] = -1\n",
    "    movies[row[\"movieId\"]][\"numOfRatings\"] = -1\n",
    "    \n",
    "    \n",
    "reader = DictReader(open('ml-latest-small/cast.csv', 'rt', encoding='utf-8'))\n",
    "moviesCast = {}\n",
    "\n",
    "for row in reader:\n",
    "    moviesCast[row[\"movieId\"]] = row[\"cast\"]"
   ]
  },
  {
   "cell_type": "code",
   "execution_count": 49,
   "metadata": {
    "collapsed": true
   },
   "outputs": [],
   "source": [
    "# kodo lahko razdelite v več celic"
   ]
  },
  {
   "cell_type": "markdown",
   "metadata": {},
   "source": [
    "## Vprašanja\n",
    "\n",
    "Glavni namen podatkovnega rudarjenja je *odkrivanje znanj iz podatkov*,\n",
    "torej odgovarjanje na vprašanja z uporabo računskih postopkov.\n",
    "\n",
    "Z uporabo principov, ki ste jih spoznali na vajah in predavanjih, odgovorite na\n",
    "spodnja vprašanja. Pri vsakem vprašanju dobro premislite, na kakšen način boste\n",
    "najbolje podali, prikazali oz. utemeljili odgovor. Bistven del so odgovori na\n",
    "vprašanja in ne implementacija vaše rešitve."
   ]
  },
  {
   "cell_type": "markdown",
   "metadata": {},
   "source": [
    "### 1. vprašanje (15%):\n",
    "Kateri filmi so v povprečju najbolje ocenjeni?  Pripravite seznam\n",
    "filmov ter njihovih povprečnih ocen in izpišite po 10 filmov z vrha seznama.\n",
    "Opazite pri takem ocenjevanju kakšno težavo? Kako bi jo lahko rešili? Kakšni so\n",
    "rezultati tedaj?"
   ]
  },
  {
   "cell_type": "code",
   "execution_count": 50,
   "metadata": {
    "collapsed": false
   },
   "outputs": [
    {
     "name": "stdout",
     "output_type": "stream",
     "text": [
      "Prva rešitev:\n",
      "Naslov: 10 Attitudes (2001)                                     Povp. ocena: 5.000000 Posebna ocena: 5.000000 Št. ocen: 1\n",
      "Naslov: Yossi (Ha-Sippur Shel Yossi) (2012)                     Povp. ocena: 5.000000 Posebna ocena: 5.000000 Št. ocen: 1\n",
      "Naslov: 29th and Gay (2005)                                     Povp. ocena: 5.000000 Posebna ocena: 5.000000 Št. ocen: 1\n",
      "Naslov: Delirious (2006)                                        Povp. ocena: 5.000000 Posebna ocena: 5.000000 Št. ocen: 1\n",
      "Naslov: Dancing in September (2000)                             Povp. ocena: 5.000000 Posebna ocena: 5.000000 Št. ocen: 1\n",
      "Naslov: Through the Olive Trees (Zire darakhatan zeyton) (1994) Povp. ocena: 5.000000 Posebna ocena: 5.000000 Št. ocen: 1\n",
      "Naslov: Journey, The (El viaje) (1992)                          Povp. ocena: 5.000000 Posebna ocena: 5.000000 Št. ocen: 1\n",
      "Naslov: Clockstoppers (2002)                                    Povp. ocena: 5.000000 Posebna ocena: 5.000000 Št. ocen: 1\n",
      "Naslov: The Biggest Fan (2002)                                  Povp. ocena: 5.000000 Posebna ocena: 5.000000 Št. ocen: 1\n",
      "Naslov: Room, The (2003)                                        Povp. ocena: 5.000000 Posebna ocena: 5.000000 Št. ocen: 1\n",
      "\n",
      "Druga rešitev:\n",
      "Naslov: Shawshank Redemption, The (1994)                        Povp. ocena: 4.487138 Posebna ocena: 79.131545 Št. ocen: 311\n",
      "Naslov: Pulp Fiction (1994)                                     Povp. ocena: 4.256173 Posebna ocena: 76.611111 Št. ocen: 324\n",
      "Naslov: Forrest Gump (1994)                                     Povp. ocena: 4.054252 Posebna ocena: 74.866572 Št. ocen: 341\n",
      "Naslov: Silence of the Lambs, The (1991)                        Povp. ocena: 4.138158 Posebna ocena: 72.151248 Št. ocen: 304\n",
      "Naslov: Star Wars: Episode IV - A New Hope (1977)               Povp. ocena: 4.221649 Posebna ocena: 72.015945 Št. ocen: 291\n",
      "Naslov: Matrix, The (1999)                                      Povp. ocena: 4.183398 Posebna ocena: 67.325414 Št. ocen: 259\n",
      "Naslov: Schindler's List (1993)                                 Povp. ocena: 4.303279 Posebna ocena: 67.219362 Št. ocen: 244\n",
      "Naslov: Star Wars: Episode V - The Empire Strikes Back (1980)   Povp. ocena: 4.232906 Posebna ocena: 64.751011 Št. ocen: 234\n",
      "Naslov: Fargo (1996)                                            Povp. ocena: 4.256696 Posebna ocena: 63.708399 Št. ocen: 224\n",
      "Naslov: Godfather, The (1972)                                   Povp. ocena: 4.487500 Posebna ocena: 63.462834 Št. ocen: 200\n"
     ]
    }
   ],
   "source": [
    "for movieRatingsData in moviesRatings.values():\n",
    "    avg = 0\n",
    "    i = 0\n",
    "    #print(movieRatingsData)\n",
    "    for rating in movieRatingsData:\n",
    "        #print(rating[\"rating\"])\n",
    "        avg += float(rating[\"rating\"])\n",
    "        i += 1\n",
    "        \n",
    "    #movies[\"avgRating\"] = avg / i\n",
    "    #print(movies[rating[\"movieId\"]][\"title\"], \": \", movies[\"avgRating\"])\n",
    "    movies[rating[\"movieId\"]][\"avgRating\"] = avg/i\n",
    "    movies[rating[\"movieId\"]][\"specialRating\"] = avg/math.sqrt(i)\n",
    "    movies[rating[\"movieId\"]][\"numOfRatings\"] = i\n",
    "    \n",
    "    \n",
    "\n",
    "print(\"Prva rešitev:\")\n",
    "top10 = []\n",
    "for i in range(0, 10):\n",
    "    maxRating = 0\n",
    "    for  movie in movies.values():\n",
    "        #print(max)\n",
    "        #print(movie)\n",
    "        if movie not in top10 and (maxRating == 0 or movie[\"avgRating\"] > maxRating[\"avgRating\"]):\n",
    "            maxRating = movie\n",
    "    \n",
    "    top10.append(maxRating)\n",
    "    print(\"Naslov: {:55s} Povp. ocena: {:f} Posebna ocena: {:f} Št. ocen: {:d}\".format(maxRating[\"title\"], maxRating[\"avgRating\"], maxRating[\"specialRating\"], int(maxRating[\"numOfRatings\"])))\n",
    "\n",
    "\n",
    "print()\n",
    "print(\"Druga rešitev:\")\n",
    "\n",
    "top10 = []\n",
    "for i in range(0, 10):\n",
    "    maxRating = 0\n",
    "    for movie in movies.values():\n",
    "        #print(max)\n",
    "        #print(movie)\n",
    "        if movie not in top10 and (maxRating == 0 or movie[\"specialRating\"] > maxRating[\"specialRating\"]):\n",
    "            maxRating = movie\n",
    "    \n",
    "    top10.append(maxRating)\n",
    "    print(\"Naslov: {:55s} Povp. ocena: {:f} Posebna ocena: {:f} Št. ocen: {:d}\".format(maxRating[\"title\"], maxRating[\"avgRating\"], maxRating[\"specialRating\"], int(maxRating[\"numOfRatings\"])))\n",
    "\n",
    "    "
   ]
  },
  {
   "cell_type": "markdown",
   "metadata": {},
   "source": [
    "Odgovor: **To je slabo, ker je mogoče, da ima kateri izmed filmov le malo ocen. In tako je lahko film, ki je ocenjen z le eno oceno 5, ocenjen enako oz bolje kot film, ki ima veliko več ocen in ima povprečje le malo manjše (recimo 4.99)**\n",
    "\n",
    "Boljša rešitev: **Pri sami oceni filma, še upoštevamo št. ocen. To sem dosegel tako, da sem seštevek ocen korenil z št. ocen (namesto zgoraj brez korena). Tako dosežem, da več kot je ocen, večji je \"bonus\". (pri tej enačbi, se skoraj da št. ocen malo preveč upošteva)**\n"
   ]
  },
  {
   "cell_type": "markdown",
   "metadata": {},
   "source": [
    "### 2. vprašanje (15%):\n",
    "Posamezni film pripada enemu ali več žanrom. \n",
    "Koliko je vseh žanrov? Prikaži porazdelitev žanrov z uporabo ustrezne\n",
    "vizualizacije."
   ]
  },
  {
   "cell_type": "code",
   "execution_count": 51,
   "metadata": {
    "collapsed": false,
    "scrolled": true
   },
   "outputs": [
    {
     "name": "stdout",
     "output_type": "stream",
     "text": [
      "Število žanrov:  19\n",
      "\n"
     ]
    },
    {
     "data": {
      "image/png": "[encoded data removed]",
      "text/plain": [
       "<matplotlib.figure.Figure at 0x15b61eac518>"
      ]
     },
     "metadata": {},
     "output_type": "display_data"
    }
   ],
   "source": [
    "genres = {}\n",
    "\n",
    "for movie in movies.values():\n",
    "    #print(\"asd\")\n",
    "    for movieGenre in movie[\"genres\"].split(\"|\"):\n",
    "        if movieGenre != \"(no genres listed)\":\n",
    "            if movieGenre in genres:\n",
    "                genres[movieGenre] += 1\n",
    "            else:\n",
    "                genres[movieGenre] = 1\n",
    "            \n",
    "print(\"Število žanrov: \", len(genres))\n",
    "print()\n",
    "\n",
    "y = []\n",
    "x = []\n",
    "\n",
    "for genre in sorted(genres.items(), key=operator.itemgetter(1), reverse=True):\n",
    "    x.append(genre[0])\n",
    "    y.append(genre[1])\n",
    "    \n",
    "N = len(y)\n",
    "\n",
    "plt.figure(0, figsize=(N, 5))\n",
    "plt.bar(range(N), y, align=\"center\", color=\"blue\")\n",
    "plt.xticks(range(N))\n",
    "plt.gca().set_xticklabels(x, rotation=90)\n",
    "plt.xlabel(\"Žanri\")\n",
    "plt.ylabel(\"Število\")\n",
    "plt.show()\n",
    "#plt.imshow(np.array(genresSorted))\n",
    "    \n",
    "#plt.figure(figsize=(3, 3))\n",
    "#plt.bar(range(3), height=(gold_ratio, silv_ratio, bron_ratio), \n",
    "#        tick_label=('zlato', 'srebro', 'bron'), \n",
    "#        color=(gold_color, silv_color, bron_color))\n",
    "#plt.ylabel('delež nagradnega sklada');\n",
    "    "
   ]
  },
  {
   "cell_type": "markdown",
   "metadata": {},
   "source": [
    "Odgovor: **Vseh žanrov je 19. Največ je filmov žanra \"Drama\"**"
   ]
  },
  {
   "cell_type": "markdown",
   "metadata": {},
   "source": [
    "### 3. vprašanje (20%):\n",
    "Število ocen (ogledov) se za posamezni film razlikuje. Ali\n",
    "obstaja povezava med gledanostjo in povprečno oceno filma? Opišite postopek, ki\n",
    "ste ga uporabili pri odgovarjanju na vprašanje."
   ]
  },
  {
   "cell_type": "code",
   "execution_count": 52,
   "metadata": {
    "collapsed": false
   },
   "outputs": [
    {
     "data": {
      "image/png": "[encoded data removed]",
      "text/plain": [
       "<matplotlib.figure.Figure at 0x15b62d30208>"
      ]
     },
     "metadata": {},
     "output_type": "display_data"
    }
   ],
   "source": [
    "avgRatings = []\n",
    "numOfRatings = []\n",
    "\n",
    "for movie in movies.values():\n",
    "    if movie[\"avgRating\"] != -1:\n",
    "        avgRatings.append(movie[\"avgRating\"])\n",
    "        numOfRatings.append(movie[\"numOfRatings\"])\n",
    "\n",
    "plt.figure(1)\n",
    "plt.scatter(numOfRatings, avgRatings)\n",
    "plt.show()"
   ]
  },
  {
   "cell_type": "markdown",
   "metadata": {},
   "source": [
    "Odgovor: **Za pomoč pri odgovarjanju sem si narisal graf. Iz grafa lahko razberemo, da imajo filmi z večjim št. ocen tudi boljšo povprečno oceno.**"
   ]
  },
  {
   "cell_type": "markdown",
   "metadata": {},
   "source": [
    "### 4. vprašanje (30%):\n",
    "Vsaka ocena je bila vnešena na določen datum (stolpec\n",
    "*timestamp*).  Ali se popularnost posameznih filmov s časom spreminja?\n",
    "Problem reši tako, da za dani film ocene razporediš po času ter v vsaku časovni\n",
    "točki izračunaš povprečje za zadnjih 30, 50, ali 100 ocen. Nariši graf, kako se\n",
    "ocena spreminja in ga prikaži za dva zanimiva primera filmov."
   ]
  },
  {
   "cell_type": "code",
   "execution_count": 53,
   "metadata": {
    "collapsed": false
   },
   "outputs": [
    {
     "data": {
      "image/png": "[encoded data removed]",
      "text/plain": [
       "<matplotlib.figure.Figure at 0x15b623f9a58>"
      ]
     },
     "metadata": {},
     "output_type": "display_data"
    }
   ],
   "source": [
    "#for movie in movies.values():\n",
    "    #if movie[\"numOfRatings\"] > 300:\n",
    "        #print(movie)\n",
    "        \n",
    "moviesToCheck = [356, 593]\n",
    "#Forrest Gump - 356\n",
    "#Silence of the Lambs - 593\n",
    "\n",
    "movieRatingsToCheck = [moviesRatings[str(moviesToCheck[0])], moviesRatings[str(moviesToCheck[1])]]\n",
    "\n",
    "#print(movieRatingsToCheck)\n",
    "#print(min(int(movieRatingsToCheck[0][\"timestamp\"])))\n",
    "\n",
    "\n",
    "moviesRatingsAverageTime = [[], []]\n",
    "i = 0\n",
    "\n",
    "for movieRatings in movieRatingsToCheck:\n",
    "    for movieRating in movieRatings:\n",
    "        moviesRatingsAverageTime[i].append(movieRating)\n",
    "        #print(movieRating)\n",
    "        #print(datetime.fromtimestamp(float(movieRating[\"timestamp\"])).strftime('%Y-%m-%d %H:%M'))\n",
    "        \n",
    "    i += 1\n",
    "\n",
    "    \n",
    "moviesRatingsAverageTimeYM = [{}, {}]\n",
    "i = 0\n",
    "    \n",
    "for movieRatingsAverageTime in moviesRatingsAverageTime:\n",
    "    for movieRatingAverageTime in movieRatingsAverageTime:\n",
    "        date = datetime.fromtimestamp(float(movieRatingAverageTime[\"timestamp\"])).strftime('%Y')\n",
    "        \n",
    "        if date in moviesRatingsAverageTimeYM[i]:\n",
    "            moviesRatingsAverageTimeYM[i][date][0] += float(movieRatingAverageTime[\"rating\"])\n",
    "            moviesRatingsAverageTimeYM[i][date][1] += 1\n",
    "        else:\n",
    "            moviesRatingsAverageTimeYM[i][date] = [float(movieRatingAverageTime[\"rating\"]), 1]\n",
    "        \n",
    "    i += 1\n",
    "\n",
    "\n",
    "\n",
    "y1 = []\n",
    "x1 = []\n",
    "\n",
    "for key, movieRatingsAverageTimeYM in sorted(moviesRatingsAverageTimeYM[0].items(), key=operator.itemgetter(0)):\n",
    "    x1.append(key)\n",
    "    y1.append(movieRatingsAverageTimeYM[0]/movieRatingsAverageTimeYM[1])\n",
    "\n",
    "\n",
    "y2 = []\n",
    "x2 = []\n",
    "\n",
    "for key, movieRatingsAverageTimeYM in sorted(moviesRatingsAverageTimeYM[1].items(), key=operator.itemgetter(0)):\n",
    "    x2.append(key)\n",
    "    y2.append(movieRatingsAverageTimeYM[0]/movieRatingsAverageTimeYM[1])\n",
    "\n",
    "plt.figure(2)\n",
    "plt.plot(x1, y1, \"r-\", label=\"Forrest Gump\")\n",
    "plt.plot(x2, y2, \"b-\", label=\"Silence of the Lambs\")\n",
    "plt.legend(bbox_to_anchor=(1.05, 1), loc=2, borderaxespad=0.)\n",
    "\n",
    "#red_patch = mpatches.Patch(color='red', label='The red data')\n",
    "#red_patch2 = mpatches.Patch(color='red', label='The red data2')\n",
    "#plt.legend(handles=[red_patch, red_pactch2])\n",
    "plt.show()"
   ]
  },
  {
   "cell_type": "markdown",
   "metadata": {},
   "source": [
    "Odgovor: **Izbral sem filma z več ocenami, saj sem tako dobil več podatkov. Ta dva filma sem izbral, ker sem v eni izmed prejšnjih nalog ugotovil, da večina filmov spada pod kategorijo \"Drama\", in sem želel videti kako se bodo podatki razlikovali za film ki splada v le-to kategorijo in tistega, ki ne.**"
   ]
  },
  {
   "cell_type": "markdown",
   "metadata": {},
   "source": [
    "### 5. vprašanje (20%):\n",
    "Kako bi ocenili popularnost posameznih igralcev? Opišite postopek\n",
    "ocenitve ter izpišite 10 najbolj popularnih igralcev."
   ]
  },
  {
   "cell_type": "code",
   "execution_count": 54,
   "metadata": {
    "collapsed": false
   },
   "outputs": [
    {
     "name": "stdout",
     "output_type": "stream",
     "text": [
      "1 Harrison Ford :  494.95517326434435\n",
      "2 Robert De Niro :  478.79210892662195\n",
      "3 Tom Hanks :  418.9812796405227\n",
      "4 Morgan Freeman :  361.2000587014893\n",
      "5 Brad Pitt :  333.3785718036159\n",
      "6 Kevin Spacey :  328.60011333085856\n",
      "7 Matt Damon :  322.37870247998956\n",
      "8 Bill Murray :  310.1526106740897\n",
      "9 Al Pacino :  302.7326044627638\n",
      "10 Robert Duvall :  297.18873758447006\n"
     ]
    }
   ],
   "source": [
    "actors = {}\n",
    "\n",
    "#print(moviesCast)\n",
    "\n",
    "for movieId, cast in moviesCast.items():\n",
    "    if movieId in list(movies.keys()):\n",
    "        avgRating = movies[movieId][\"avgRating\"]\n",
    "        funct = (avgRating-3)/math.sqrt(1+pow(avgRating-3, 2))\n",
    "        actorRating = movies[movieId][\"specialRating\"] * funct\n",
    "        \n",
    "        for actor in cast.split(\"|\"):\n",
    "            if actor != \"\":\n",
    "                if actor in actors:\n",
    "                    actors[actor] += actorRating\n",
    "                else:\n",
    "                    actors[actor] = actorRating\n",
    "\n",
    "i = 1\n",
    "for actor, ocena in sorted(actors.items(), key=operator.itemgetter(1), reverse=True):#actors.items():\n",
    "    print(i, actor, \": \", ocena)\n",
    "    \n",
    "    i += 1\n",
    "    if i == 11:\n",
    "        break\n"
   ]
  },
  {
   "cell_type": "markdown",
   "metadata": {},
   "source": [
    "Odgovor: **Igralce sem ocenil tako, da sem iz 1. naloge uporabil izbolšano oceno in jo pomnožil z sigmoidno funkcijo katere vhod je povprečna ocena filma. Tako se izbolšana ocena pomnoži z pozitivno vrednostjo če je povprečna ocena filma več kot 3, z vrednostjo enako 0, če je povp. ocena filma enaka 3 in z negativno vrednostjo, če je ovena filma manjša kot 3.**"
   ]
  },
  {
   "cell_type": "markdown",
   "metadata": {},
   "source": [
    "### bonus vprašanje (5%):\n",
    "\n",
    "Kateri je tvoj najljubši film? Zakaj?"
   ]
  },
  {
   "cell_type": "markdown",
   "metadata": {},
   "source": [
    "Odgovor: **James Bond. Po mojem mnenju je to eden boljših filmov zaradi posebne mešanice akcije, hitrih avtomobilov in  uporabljene tehnologije**"
   ]
  },
  {
   "cell_type": "markdown",
   "metadata": {},
   "source": [
    "## Zapiski\n",
    "Za nalaganje podatkov lahko uporabite vgrajen modul `csv`. Mapa s podatki `ml-latest-small` se v tem primeru mora nahajati v isti mapi kot notebook."
   ]
  },
  {
   "cell_type": "code",
   "execution_count": null,
   "metadata": {
    "collapsed": true
   },
   "outputs": [],
   "source": [
    "from csv import DictReader\n",
    "\n",
    "reader = DictReader(open('ml-latest-small/ratings.csv', 'rt', encoding='utf-8'))\n",
    "for row in reader:\n",
    "    user = row[\"userId\"]\n",
    "    movie = row[\"movieId\"]\n",
    "    rating = row[\"rating\"]\n",
    "    timestamp = row[\"timestamp\"]"
   ]
  },
  {
   "cell_type": "markdown",
   "metadata": {},
   "source": [
    "Podatki v zadnji vrstici datoteke:"
   ]
  },
  {
   "cell_type": "code",
   "execution_count": null,
   "metadata": {
    "collapsed": false
   },
   "outputs": [],
   "source": [
    "user, movie, rating, timestamp"
   ]
  },
  {
   "cell_type": "markdown",
   "metadata": {},
   "source": [
    "Pretvorba časovnega formata (*Unix time*). Kode za oblikovanje so navedene v dokumentaciji modula [`datetime`](https://docs.python.org/3/library/datetime.html#strftime-and-strptime-behavior)."
   ]
  },
  {
   "cell_type": "code",
   "execution_count": null,
   "metadata": {
    "collapsed": false
   },
   "outputs": [],
   "source": [
    "from datetime import datetime\n",
    "\n",
    "t = 1217897793 # Unix-time\n",
    "ts = datetime.fromtimestamp(t).strftime('%Y-%m-%d %H:%M')\n",
    "ts"
   ]
  },
  {
   "cell_type": "code",
   "execution_count": null,
   "metadata": {
    "collapsed": true
   },
   "outputs": [],
   "source": []
  }
 ],
 "metadata": {
  "anaconda-cloud": {},
  "kernelspec": {
   "display_name": "Python [default]",
   "language": "python",
   "name": "python3"
  },
  "language_info": {
   "codemirror_mode": {
    "name": "ipython",
    "version": 3
   },
   "file_extension": ".py",
   "mimetype": "text/x-python",
   "name": "python",
   "nbconvert_exporter": "python",
   "pygments_lexer": "ipython3",
   "version": "3.5.2"
  },
  "latex_envs": {
   "LaTeX_envs_menu_present": true,
   "autocomplete": true,
   "bibliofile": "biblio.bib",
   "cite_by": "apalike",
   "current_citInitial": 1,
   "eqLabelWithNumbers": true,
   "eqNumInitial": 1,
   "hotkeys": {
    "equation": "Ctrl-E",
    "itemize": "Ctrl-I"
   },
   "labels_anchors": false,
   "latex_user_defs": false,
   "report_style_numbering": false,
   "user_envs_cfg": false
  },
  "nbTranslate": {
   "displayLangs": [
    "*"
   ],
   "hotkey": "alt-t",
   "langInMainMenu": true,
   "sourceLang": "en",
   "targetLang": "fr",
   "useGoogleTranslate": true
  }
 },
 "nbformat": 4,
 "nbformat_minor": 2
}
